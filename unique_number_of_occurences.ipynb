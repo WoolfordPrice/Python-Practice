{
 "cells": [
  {
   "cell_type": "markdown",
   "metadata": {},
   "source": [
    "Given an array of integers arr, return true if the number of occurrences of each value in the array is unique or false otherwise.\n",
    "\n",
    " \n",
    "\n",
    "Example 1:\n",
    "\n",
    "Input: arr = [1,2,2,1,1,3]\n",
    "Output: true\n",
    "Explanation: The value 1 has 3 occurrences, 2 has 2 and 3 has 1. No two values have the same number of occurrences.\n",
    "Example 2:\n",
    "\n",
    "Input: arr = [1,2]\n",
    "Output: false\n",
    "Example 3:\n",
    "\n",
    "Input: arr = [-3,0,1,-3,1,1,1,-3,10,0]\n",
    "Output: true"
   ]
  },
  {
   "cell_type": "code",
   "execution_count": null,
   "metadata": {},
   "outputs": [],
   "source": [
    "# List of keys\n",
    "my_list = [1, 2, 3, 4]\n",
    "\n",
    "# Method 1: Using dictionary comprehension with default values\n",
    "default_value_dict = {key: None for key in my_list}\n",
    "print(default_value_dict)  # Output: {1: None, 2: None, 3: None, 4: None}\n",
    "\n",
    "# Method 2: Using dict.fromkeys() with default values\n",
    "default_value_dict = dict.fromkeys(my_list, None)\n",
    "print(default_value_dict)  # Output: {1: None, 2: None, 3: None, 4: None}\n",
    "\n",
    "# Method 3: Using dictionary comprehension with specific values\n",
    "values = ['a', 'b', 'c', 'd']\n",
    "specific_value_dict = {key: value for key, value in zip(my_list, values)}\n",
    "print(specific_value_dict)  # Output: {1: 'a', 2: 'b', 3: 'c', 4: 'd'}"
   ]
  },
  {
   "cell_type": "code",
   "execution_count": 6,
   "metadata": {},
   "outputs": [
    {
     "name": "stdout",
     "output_type": "stream",
     "text": [
      "{1: 0, 2: 0, 3: 0}\n",
      "0\n",
      "{1: 0, 2: 0, 3: 0, 4: 0}\n"
     ]
    }
   ],
   "source": [
    "arr1 = [1,2,2,1,1,3]\n",
    "new_dict = dict.fromkeys(arr, 0)\n",
    "print(new_dict)\n",
    "print(new_dict[1])\n",
    "new_dict[4] = 0\n",
    "print(new_dict)"
   ]
  },
  {
   "cell_type": "code",
   "execution_count": 11,
   "metadata": {},
   "outputs": [],
   "source": [
    "def unique_occurences(arr):\n",
    "    unique_dict = dict.fromkeys(arr,0)\n",
    "    counts = []\n",
    "    for num in arr:\n",
    "        unique_dict[num] += 1\n",
    "    for value in unique_dict.values():\n",
    "        if value in counts:\n",
    "            return False\n",
    "        else:\n",
    "            counts.append(value)\n",
    "    return True"
   ]
  },
  {
   "cell_type": "code",
   "execution_count": 14,
   "metadata": {},
   "outputs": [
    {
     "data": {
      "text/plain": [
       "True"
      ]
     },
     "execution_count": 14,
     "metadata": {},
     "output_type": "execute_result"
    }
   ],
   "source": [
    "arr1 = [-3,0,1,-3,1,1,1,-3,10,0]\n",
    "unique_occurences(arr1)"
   ]
  },
  {
   "cell_type": "code",
   "execution_count": null,
   "metadata": {},
   "outputs": [],
   "source": [
    "#leet solution, sort of a similar approach but this is leveraging sort over a dict...I can see how this is more efficient\n",
    "def uniqueOccurrences(self, arr: List[int]) -> bool:\n",
    "        arr.sort()\n",
    "        v = []\n",
    "\n",
    "        i = 0\n",
    "        while i < len(arr):\n",
    "            cnt = 1\n",
    "\n",
    "            # Count occurrences of the current element\n",
    "            while i + 1 < len(arr) and arr[i] == arr[i + 1]:\n",
    "                cnt += 1\n",
    "                i += 1\n",
    "\n",
    "            v.append(cnt)\n",
    "            i += 1\n",
    "\n",
    "        v.sort()\n",
    "\n",
    "        for i in range(1, len(v)):\n",
    "            if v[i] == v[i - 1]:\n",
    "                return False\n",
    "\n",
    "        return True"
   ]
  }
 ],
 "metadata": {
  "kernelspec": {
   "display_name": "Python 3",
   "language": "python",
   "name": "python3"
  },
  "language_info": {
   "codemirror_mode": {
    "name": "ipython",
    "version": 3
   },
   "file_extension": ".py",
   "mimetype": "text/x-python",
   "name": "python",
   "nbconvert_exporter": "python",
   "pygments_lexer": "ipython3",
   "version": "3.10.5"
  }
 },
 "nbformat": 4,
 "nbformat_minor": 2
}
