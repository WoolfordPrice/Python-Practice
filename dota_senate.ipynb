{
 "cells": [
  {
   "cell_type": "markdown",
   "metadata": {},
   "source": [
    "In the world of Dota2, there are two parties: the Radiant and the Dire.\n",
    "\n",
    "The Dota2 senate consists of senators coming from two parties. Now the Senate wants to decide on a change in the Dota2 game. The voting for this change is a round-based procedure. In each round, each senator can exercise one of the two rights:\n",
    "\n",
    "Ban one senator's right: A senator can make another senator lose all his rights in this and all the following rounds.\n",
    "Announce the victory: If this senator found the senators who still have rights to vote are all from the same party, he can announce the victory and decide on the change in the game.\n",
    "Given a string senate representing each senator's party belonging. The character 'R' and 'D' represent the Radiant party and the Dire party. Then if there are n senators, the size of the given string will be n.\n",
    "\n",
    "The round-based procedure starts from the first senator to the last senator in the given order. This procedure will last until the end of voting. All the senators who have lost their rights will be skipped during the procedure.\n",
    "\n",
    "Suppose every senator is smart enough and will play the best strategy for his own party. Predict which party will finally announce the victory and change the Dota2 game. The output should be \"Radiant\" or \"Dire\"."
   ]
  },
  {
   "cell_type": "code",
   "execution_count": 25,
   "metadata": {},
   "outputs": [],
   "source": [
    "class Solution:\n",
    "    def predictPartyVictory(self, senate: str) -> str:\n",
    "        n = len(senate)\n",
    "        d_list = []\n",
    "        r_list = []\n",
    "\n",
    "        for index, senator in enumerate(senate):\n",
    "            if senator == 'D':\n",
    "                d_list.append(index)\n",
    "            else:\n",
    "                r_list.append(index)\n",
    "\n",
    "    \n",
    "        while d_list and r_list:\n",
    "            if d_list[0] < r_list[0]:\n",
    "                d_list.pop(0)\n",
    "                r_list.pop(0)\n",
    "                n += 1\n",
    "                d_list.append(n)\n",
    "\n",
    "            elif r_list[0] < d_list[0]:\n",
    "                d_list.pop(0)\n",
    "                r_list.pop(0)\n",
    "                n += 1\n",
    "                r_list.append(n)\n",
    "    \n",
    "        if d_list:\n",
    "            return \"Dire\"\n",
    "        else:\n",
    "            return \"Radiant\""
   ]
  }
 ],
 "metadata": {
  "kernelspec": {
   "display_name": "Python 3",
   "language": "python",
   "name": "python3"
  },
  "language_info": {
   "codemirror_mode": {
    "name": "ipython",
    "version": 3
   },
   "file_extension": ".py",
   "mimetype": "text/x-python",
   "name": "python",
   "nbconvert_exporter": "python",
   "pygments_lexer": "ipython3",
   "version": "3.12.1"
  }
 },
 "nbformat": 4,
 "nbformat_minor": 2
}
