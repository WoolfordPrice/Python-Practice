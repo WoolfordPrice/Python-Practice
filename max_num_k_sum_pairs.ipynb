{
 "cells": [
  {
   "cell_type": "markdown",
   "metadata": {},
   "source": [
    "You are given an integer array nums and an integer k.\n",
    "\n",
    "In one operation, you can pick two numbers from the array whose sum equals k and remove them from the array.\n",
    "\n",
    "Return the maximum number of operations you can perform on the array.\n",
    "\n",
    " \n",
    "\n",
    "Example 1:\n",
    "\n",
    "Input: nums = [1,2,3,4], k = 5\n",
    "Output: 2\n",
    "Explanation: Starting with nums = [1,2,3,4]:\n",
    "- Remove numbers 1 and 4, then nums = [2,3]\n",
    "- Remove numbers 2 and 3, then nums = []\n",
    "There are no more pairs that sum up to 5, hence a total of 2 operations.\n",
    "Example 2:\n",
    "\n",
    "Input: nums = [3,1,3,4,3], k = 6\n",
    "Output: 1\n",
    "Explanation: Starting with nums = [3,1,3,4,3]:\n",
    "- Remove the first two 3's, then nums = [1,4,3]\n",
    "There are no more pairs that sum up to 6, hence a total of 1 operation."
   ]
  },
  {
   "cell_type": "code",
   "execution_count": 11,
   "metadata": {},
   "outputs": [],
   "source": [
    "def max_num_k_sum_pairs(input_list, k):\n",
    "    num_pairs = 0\n",
    "    new_list = input_list\n",
    "    for item in new_list:\n",
    "        target = k - item\n",
    "        if target in new_list:\n",
    "            new_list.remove(item)\n",
    "            new_list.remove(target)\n",
    "            num_pairs += 1\n",
    "        else:\n",
    "            pass\n",
    "    return num_pairs, new_list\n",
    "#doesn't work with doubles if it finds itself\n",
    "            \n",
    "    "
   ]
  },
  {
   "cell_type": "code",
   "execution_count": 24,
   "metadata": {},
   "outputs": [],
   "source": [
    "#use a sliding window instead\n",
    "def max_num_k_sum_pairs(input_list,k):\n",
    "    #input_list.sort()\n",
    "    left = 0\n",
    "    right = len(input_list)-1\n",
    "    pairs = 0\n",
    "    \n",
    "    while left < right:\n",
    "        if (input_list[left] + input_list[right] == k):\n",
    "            pairs += 1\n",
    "            left += 1\n",
    "            right -= 1\n",
    "        elif(input_list[left] + input_list[right] < k):\n",
    "            left += 1\n",
    "        else:\n",
    "            right -= 1\n",
    "    return pairs\n",
    "        \n",
    "        \n",
    "    "
   ]
  },
  {
   "cell_type": "code",
   "execution_count": 20,
   "metadata": {},
   "outputs": [],
   "source": [
    "list1 = [1,2,3,4]\n",
    "list2 = [3,1,3,4,3]\n",
    "\n"
   ]
  },
  {
   "cell_type": "code",
   "execution_count": 26,
   "metadata": {},
   "outputs": [
    {
     "data": {
      "text/plain": [
       "2"
      ]
     },
     "execution_count": 26,
     "metadata": {},
     "output_type": "execute_result"
    }
   ],
   "source": [
    "max_num_k_sum_pairs(list1,5)"
   ]
  }
 ],
 "metadata": {
  "kernelspec": {
   "display_name": "Python 3",
   "language": "python",
   "name": "python3"
  },
  "language_info": {
   "codemirror_mode": {
    "name": "ipython",
    "version": 3
   },
   "file_extension": ".py",
   "mimetype": "text/x-python",
   "name": "python",
   "nbconvert_exporter": "python",
   "pygments_lexer": "ipython3",
   "version": "3.10.5"
  }
 },
 "nbformat": 4,
 "nbformat_minor": 2
}
