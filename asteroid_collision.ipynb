{
 "cells": [
  {
   "cell_type": "markdown",
   "metadata": {},
   "source": [
    "We are given an array asteroids of integers representing asteroids in a row.\n",
    "\n",
    "For each asteroid, the absolute value represents its size, and the sign represents its direction (positive meaning right, negative meaning left). Each asteroid moves at the same speed.\n",
    "\n",
    "Find out the state of the asteroids after all collisions. If two asteroids meet, the smaller one will explode. If both are the same size, both will explode. Two asteroids moving in the same direction will never meet.\n",
    "\n",
    " \n",
    "\n",
    "Example 1:\n",
    "\n",
    "Input: asteroids = [5,10,-5]\n",
    "Output: [5,10]\n",
    "Explanation: The 10 and -5 collide resulting in 10. The 5 and 10 never collide.\n",
    "Example 2:\n",
    "\n",
    "Input: asteroids = [8,-8]\n",
    "Output: []\n",
    "Explanation: The 8 and -8 collide exploding each other.\n",
    "Example 3:\n",
    "\n",
    "Input: asteroids = [10,2,-5]\n",
    "Output: [10]\n",
    "Explanation: The 2 and -5 collide resulting in -5. The 10 and -5 collide resulting in 10."
   ]
  },
  {
   "cell_type": "code",
   "execution_count": 11,
   "metadata": {},
   "outputs": [],
   "source": [
    "def asteroidCollision(asteroids):\n",
    "    i = 0\n",
    "    while i < len(asteroids) -1:\n",
    "        j = i + 1\n",
    "        if (asteroids[i] > 0 and asteroids[j] < 0):\n",
    "            if abs(asteroids[i]) < abs(asteroids[j]):\n",
    "                asteroids.pop(i)\n",
    "                i -= 1\n",
    "            else:\n",
    "                asteroids.pop(j)\n",
    "                i -= 1\n",
    "                \n",
    "    return asteroids"
   ]
  },
  {
   "cell_type": "code",
   "execution_count": 13,
   "metadata": {},
   "outputs": [],
   "source": [
    "def asteroidCollision(asteroids):\n",
    "    i = 0\n",
    "    while i < len(asteroids) - 1:\n",
    "        j = i + 1\n",
    "        if (asteroids[i] > 0 and asteroids[j] < 0):\n",
    "            if abs(asteroids[i]) < abs(asteroids[j]):\n",
    "                asteroids.pop(i)\n",
    "                i -= 1 \n",
    "            elif abs(asteroids[i]) > abs(asteroids[j]):\n",
    "                asteroids.pop(j)\n",
    "            else:\n",
    "                asteroids.pop(i)\n",
    "                asteroids.pop(j - 1)\n",
    "                i -= 1\n",
    "        else:\n",
    "            i += 1\n",
    "    return asteroids"
   ]
  },
  {
   "cell_type": "code",
   "execution_count": 18,
   "metadata": {},
   "outputs": [
    {
     "data": {
      "text/plain": [
       "[-10, 5]"
      ]
     },
     "execution_count": 18,
     "metadata": {},
     "output_type": "execute_result"
    }
   ],
   "source": [
    "aster = [-10,5,-2]\n",
    "asteroidCollision(aster)"
   ]
  },
  {
   "cell_type": "code",
   "execution_count": null,
   "metadata": {},
   "outputs": [],
   "source": []
  }
 ],
 "metadata": {
  "kernelspec": {
   "display_name": "Python 3",
   "language": "python",
   "name": "python3"
  },
  "language_info": {
   "codemirror_mode": {
    "name": "ipython",
    "version": 3
   },
   "file_extension": ".py",
   "mimetype": "text/x-python",
   "name": "python",
   "nbconvert_exporter": "python",
   "pygments_lexer": "ipython3",
   "version": "3.10.5"
  }
 },
 "nbformat": 4,
 "nbformat_minor": 2
}
