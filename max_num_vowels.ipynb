{
 "cells": [
  {
   "cell_type": "markdown",
   "metadata": {},
   "source": [
    "Given a string s and an integer k, return the maximum number of vowel letters in any substring of s with length k.\n",
    "\n",
    "Vowel letters in English are 'a', 'e', 'i', 'o', and 'u'.\n",
    "\n",
    " \n",
    "\n",
    "Example 1:\n",
    "\n",
    "Input: s = \"abciiidef\", k = 3\n",
    "Output: 3\n",
    "Explanation: The substring \"iii\" contains 3 vowel letters.\n",
    "Example 2:\n",
    "\n",
    "Input: s = \"aeiou\", k = 2\n",
    "Output: 2\n",
    "Explanation: Any substring of length 2 contains 2 vowels.\n",
    "Example 3:\n",
    "\n",
    "Input: s = \"leetcode\", k = 3\n",
    "Output: 2\n",
    "Explanation: \"lee\", \"eet\" and \"ode\" contain 2 vowels."
   ]
  },
  {
   "cell_type": "code",
   "execution_count": 3,
   "metadata": {},
   "outputs": [],
   "source": [
    "def max_num_vowels(input_string, k):\n",
    "    vowels = ['a','e','i','o','u']\n",
    "    split_string = list(input_string)\n",
    "    max_vowels = 0\n",
    "    left = 0\n",
    "    right = k\n",
    "    for i in \n",
    "        for i in split_string[left:right]:\n",
    "            counter = 0\n",
    "            if i in vowels:\n",
    "                counter += 1\n",
    "            max_vowels = max(counter,max_vowels)\n",
    "        left += 1\n",
    "        right += 1\n",
    "    return max_vowels        \n",
    "            \n",
    "        \n",
    "    \n",
    "    \n",
    "\n",
    "\n",
    "    "
   ]
  },
  {
   "cell_type": "code",
   "execution_count": 5,
   "metadata": {},
   "outputs": [],
   "source": [
    "def max_num_vowels(input_string, k):\n",
    "    vowels = ['a','e','i','o','u']\n",
    "    split_string = list(input_string)\n",
    "    max_vowels = 0\n",
    "    for i in range(len(split_string)-3):\n",
    "        sub_array = split_string[i:i+3]\n",
    "        count = 0\n",
    "        for j in sub_array:\n",
    "            if j in vowels:\n",
    "                count += 1\n",
    "        i += 1\n",
    "        max_vowels = max(count,max_vowels)\n",
    "    return max_vowels"
   ]
  },
  {
   "cell_type": "code",
   "execution_count": 9,
   "metadata": {},
   "outputs": [
    {
     "data": {
      "text/plain": [
       "3"
      ]
     },
     "execution_count": 9,
     "metadata": {},
     "output_type": "execute_result"
    }
   ],
   "source": [
    "input = \"aeiou\"\n",
    "max_num_vowels(input, 2)"
   ]
  }
 ],
 "metadata": {
  "kernelspec": {
   "display_name": "Python 3",
   "language": "python",
   "name": "python3"
  },
  "language_info": {
   "codemirror_mode": {
    "name": "ipython",
    "version": 3
   },
   "file_extension": ".py",
   "mimetype": "text/x-python",
   "name": "python",
   "nbconvert_exporter": "python",
   "pygments_lexer": "ipython3",
   "version": "3.10.5"
  }
 },
 "nbformat": 4,
 "nbformat_minor": 2
}
