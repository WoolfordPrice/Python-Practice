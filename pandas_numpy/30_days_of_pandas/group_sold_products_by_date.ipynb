{
 "cells": [
  {
   "cell_type": "markdown",
   "metadata": {},
   "source": [
    "+-------------+---------+\n",
    "| Column Name | Type    |\n",
    "+-------------+---------+\n",
    "| sell_date   | date    |\n",
    "| product     | varchar |\n",
    "+-------------+---------+\n",
    "There is no primary key (column with unique values) for this table. It may contain duplicates.\n",
    "Each row of this table contains the product name and the date it was sold in a market.\n",
    " \n",
    "\n",
    "Write a solution to find for each date the number of different products sold and their names.\n",
    "\n",
    "The sold products names for each date should be sorted lexicographically.\n",
    "\n",
    "Return the result table ordered by sell_date.\n",
    "\n",
    "The result format is in the following example.\n",
    "\n",
    " \n",
    "\n",
    "Example 1:\n",
    "\n",
    "Input: \n",
    "Activities table:\n",
    "+------------+------------+\n",
    "| sell_date  | product     |\n",
    "+------------+------------+\n",
    "| 2020-05-30 | Headphone  |\n",
    "| 2020-06-01 | Pencil     |\n",
    "| 2020-06-02 | Mask       |\n",
    "| 2020-05-30 | Basketball |\n",
    "| 2020-06-01 | Bible      |\n",
    "| 2020-06-02 | Mask       |\n",
    "| 2020-05-30 | T-Shirt    |\n",
    "+------------+------------+\n",
    "Output: \n",
    "+------------+----------+------------------------------+\n",
    "| sell_date  | num_sold | products                     |\n",
    "+------------+----------+------------------------------+\n",
    "| 2020-05-30 | 3        | Basketball,Headphone,T-shirt |\n",
    "| 2020-06-01 | 2        | Bible,Pencil                 |\n",
    "| 2020-06-02 | 1        | Mask                         |\n",
    "+------------+----------+------------------------------+\n",
    "Explanation: \n",
    "For 2020-05-30, Sold items were (Headphone, Basketball, T-shirt), we sort them lexicographically and separate them by a comma.\n",
    "For 2020-06-01, Sold items were (Pencil, Bible), we sort them lexicographically and separate them by a comma.\n",
    "For 2020-06-02, the Sold item is (Mask), we just return it."
   ]
  },
  {
   "cell_type": "code",
   "execution_count": 1,
   "metadata": {},
   "outputs": [
    {
     "name": "stdout",
     "output_type": "stream",
     "text": [
      "    sell_date     product\n",
      "0  2020-05-30   Headphone\n",
      "1  2020-06-01      Pencil\n",
      "2  2020-06-02        Mask\n",
      "3  2020-05-30  Basketball\n",
      "4  2020-06-01       Bible\n",
      "5  2020-06-02        Mask\n",
      "6  2020-05-30     T-Shirt\n"
     ]
    }
   ],
   "source": [
    "import pandas as pd\n",
    "\n",
    "# Create the data\n",
    "activities_data = {\n",
    "    'sell_date': ['2020-05-30', '2020-06-01', '2020-06-02', '2020-05-30', '2020-06-01', '2020-06-02', '2020-05-30'],\n",
    "    'product': ['Headphone', 'Pencil', 'Mask', 'Basketball', 'Bible', 'Mask', 'T-Shirt']\n",
    "}\n",
    "\n",
    "# Convert to DataFrame\n",
    "activities_df = pd.DataFrame(activities_data)\n",
    "\n",
    "# Display the DataFrame\n",
    "print(activities_df)\n"
   ]
  },
  {
   "cell_type": "code",
   "execution_count": null,
   "metadata": {},
   "outputs": [],
   "source": [
    "import pandas as pd\n",
    "\n",
    "def categorize_products(activities: pd.DataFrame):\n",
    "    \n",
    "    #Group by 'sell_date' and aggreate unique products\n",
    "    grouped_df = activities.groupby(['sell_date'])['product'].unique().reset_index().rename(columns = {'sell_date':'sell_date', 'product':'products'})\n",
    "    \n",
    "    #rename columns for clarity\n",
    "    grouped = grouped.rename(columns = {'product': 'products'})\n",
    "    \n",
    "    #add a new column for the count of unique productssold\n",
    "    grouped_df['count_sold'] = grouped_df['products'].apply(len) #or .str.len()\n",
    "    \n",
    "    #sort the list of products\n",
    "    grouped_df['products'] = grouped_df['products'].apply(sorted)\n",
    "    \n",
    "    #reorder\n",
    "    result = grouped_df[['sell_date', 'num_sold','products']]\n",
    "    \n",
    "    return result"
   ]
  },
  {
   "cell_type": "code",
   "execution_count": null,
   "metadata": {},
   "outputs": [],
   "source": [
    "import pandas as pd\n",
    "#the issue with your answer was some formatting issues, this seeks to resolve that\n",
    "def categorize_products(activities: pd.DataFrame) -> pd.DataFrame:\n",
    "    # Group by 'sell_date' and aggregate unique products\n",
    "    grouped = activities.groupby('sell_date')['product'].unique().reset_index()\n",
    "\n",
    "    # Rename columns for clarity\n",
    "    grouped = grouped.rename(columns={'product': 'products'})\n",
    "\n",
    "    # Add a new column for the count of unique products sold\n",
    "    grouped['num_sold'] = grouped['products'].str.len()\n",
    "\n",
    "    # Step 1: Sort the list of products\n",
    "    for i in range(len(grouped)):\n",
    "        grouped.at[i, 'products'] = sorted(grouped.at[i, 'products'])\n",
    "\n",
    "    # Step 2: Concatenate the sorted list into a comma-separated string\n",
    "    for i in range(len(grouped)):\n",
    "        grouped.at[i, 'products'] = ','.join(grouped.at[i, 'products'])\n",
    "\n",
    "    # Reorder columns\n",
    "    result = grouped[['sell_date', 'num_sold', 'products']]\n",
    "\n",
    "    # Sort by 'sell_date'\n",
    "    result = result.sort_values('sell_date')\n",
    "\n",
    "    return result"
   ]
  },
  {
   "cell_type": "code",
   "execution_count": 2,
   "metadata": {},
   "outputs": [
    {
     "name": "stdout",
     "output_type": "stream",
     "text": [
      "    sell_date     product\n",
      "0  2020-05-30   Headphone\n",
      "3  2020-05-30  Basketball\n",
      "6  2020-05-30     T-Shirt\n",
      "1  2020-06-01      Pencil\n",
      "4  2020-06-01       Bible\n",
      "2  2020-06-02        Mask\n",
      "5  2020-06-02        Mask\n"
     ]
    }
   ],
   "source": [
    "sorted_df = activities_df.sort_values(by = 'sell_date')\n",
    "print(sorted_df)"
   ]
  },
  {
   "cell_type": "markdown",
   "metadata": {},
   "source": [
    "unique_items = activities_df.nunique(['product'])"
   ]
  },
  {
   "cell_type": "code",
   "execution_count": 6,
   "metadata": {},
   "outputs": [
    {
     "name": "stdout",
     "output_type": "stream",
     "text": [
      "6\n"
     ]
    }
   ],
   "source": [
    "unique_items = activities_df['product'].nunique()\n",
    "print(unique_items)"
   ]
  },
  {
   "cell_type": "code",
   "execution_count": 24,
   "metadata": {},
   "outputs": [
    {
     "name": "stdout",
     "output_type": "stream",
     "text": [
      "    sell_date                          products\n",
      "0  2020-05-30  [Headphone, Basketball, T-Shirt]\n",
      "1  2020-06-01                   [Pencil, Bible]\n",
      "2  2020-06-02                            [Mask]\n"
     ]
    }
   ],
   "source": [
    "grouped_df = activities_df.groupby(['sell_date'])['product'].unique().reset_index().rename(columns = {'product':'products'})\n",
    "#grouped_df['count_sold'] = grouped_df['product'].nunique()\n",
    "print(grouped_df)"
   ]
  },
  {
   "cell_type": "code",
   "execution_count": 21,
   "metadata": {},
   "outputs": [
    {
     "name": "stdout",
     "output_type": "stream",
     "text": [
      "    sell_date                          products  num_sold\n",
      "0  2020-05-30  [Headphone, Basketball, T-Shirt]         3\n",
      "1  2020-06-01                   [Pencil, Bible]         2\n",
      "2  2020-06-02                            [Mask]         1\n"
     ]
    }
   ],
   "source": [
    "grouped_df['num_sold'] = grouped_df['products'].apply(len)\n",
    "print(grouped_df)"
   ]
  },
  {
   "cell_type": "code",
   "execution_count": 23,
   "metadata": {},
   "outputs": [
    {
     "name": "stdout",
     "output_type": "stream",
     "text": [
      "    sell_date                          products  num_sold\n",
      "0  2020-05-30  [Basketball, Headphone, T-Shirt]         3\n",
      "1  2020-06-01                   [Bible, Pencil]         2\n",
      "2  2020-06-02                            [Mask]         1\n"
     ]
    }
   ],
   "source": [
    "grouped_df['products'] = grouped_df['products'].apply(sorted)\n",
    "print(grouped_df)"
   ]
  },
  {
   "cell_type": "code",
   "execution_count": null,
   "metadata": {},
   "outputs": [],
   "source": []
  }
 ],
 "metadata": {
  "kernelspec": {
   "display_name": "Python 3",
   "language": "python",
   "name": "python3"
  },
  "language_info": {
   "codemirror_mode": {
    "name": "ipython",
    "version": 3
   },
   "file_extension": ".py",
   "mimetype": "text/x-python",
   "name": "python",
   "nbconvert_exporter": "python",
   "pygments_lexer": "ipython3",
   "version": "3.10.11"
  }
 },
 "nbformat": 4,
 "nbformat_minor": 2
}
