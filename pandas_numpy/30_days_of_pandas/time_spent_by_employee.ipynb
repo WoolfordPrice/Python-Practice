{
 "cells": [
  {
   "cell_type": "markdown",
   "metadata": {},
   "source": [
    "+-------------+------+\n",
    "| Column Name | Type |\n",
    "+-------------+------+\n",
    "| emp_id      | int  |\n",
    "| event_day   | date |\n",
    "| in_time     | int  |\n",
    "| out_time    | int  |\n",
    "+-------------+------+\n",
    "(emp_id, event_day, in_time) is the primary key (combinations of columns with unique values) of this table.\n",
    "The table shows the employees' entries and exits in an office.\n",
    "event_day is the day at which this event happened, in_time is the minute at which the employee entered the office, and out_time is the minute at which they left the office.\n",
    "in_time and out_time are between 1 and 1440.\n",
    "It is guaranteed that no two events on the same day intersect in time, and in_time < out_time.\n",
    " \n",
    "\n",
    "Write a solution to calculate the total time in minutes spent by each employee on each day at the office. Note that within one day, an employee can enter and leave more than once. The time spent in the office for a single entry is out_time - in_time.\n",
    "\n",
    "Return the result table in any order.\n",
    "\n",
    "The result format is in the following example.\n",
    "\n",
    " \n",
    "\n",
    "Example 1:\n",
    "\n",
    "Input: \n",
    "Employees table:\n",
    "+--------+------------+---------+----------+\n",
    "| emp_id | event_day  | in_time | out_time |\n",
    "+--------+------------+---------+----------+\n",
    "| 1      | 2020-11-28 | 4       | 32       |\n",
    "| 1      | 2020-11-28 | 55      | 200      |\n",
    "| 1      | 2020-12-03 | 1       | 42       |\n",
    "| 2      | 2020-11-28 | 3       | 33       |\n",
    "| 2      | 2020-12-09 | 47      | 74       |\n",
    "+--------+------------+---------+----------+\n",
    "Output: \n",
    "+------------+--------+------------+\n",
    "| day        | emp_id | total_time |\n",
    "+------------+--------+------------+\n",
    "| 2020-11-28 | 1      | 173        |\n",
    "| 2020-11-28 | 2      | 30         |\n",
    "| 2020-12-03 | 1      | 41         |\n",
    "| 2020-12-09 | 2      | 27         |\n",
    "+------------+--------+------------+\n",
    "Explanation: \n",
    "Employee 1 has three events: two on day 2020-11-28 with a total of (32 - 4) + (200 - 55) = 173, and one on day 2020-12-03 with a total of (42 - 1) = 41.\n",
    "Employee 2 has two events: one on day 2020-11-28 with a total of (33 - 3) = 30, and one on day 2020-12-09 with a total of (74 - 47) = 27."
   ]
  },
  {
   "cell_type": "code",
   "execution_count": 1,
   "metadata": {},
   "outputs": [
    {
     "name": "stdout",
     "output_type": "stream",
     "text": [
      "   emp_id   event_day  in_time  out_time\n",
      "0       1  2020-11-28        4        32\n",
      "1       1  2020-11-28       55       200\n",
      "2       1  2020-12-03        1        42\n",
      "3       2  2020-11-28        3        33\n",
      "4       2  2020-12-09       47        74\n"
     ]
    }
   ],
   "source": [
    "import pandas as pd\n",
    "\n",
    "# Data for the DataFrame\n",
    "data = {\n",
    "    'emp_id': [1, 1, 1, 2, 2],\n",
    "    'event_day': ['2020-11-28', '2020-11-28', '2020-12-03', '2020-11-28', '2020-12-09'],\n",
    "    'in_time': [4, 55, 1, 3, 47],\n",
    "    'out_time': [32, 200, 42, 33, 74]\n",
    "}\n",
    "\n",
    "# Create the DataFrame\n",
    "df = pd.DataFrame(data)\n",
    "\n",
    "# Display the DataFrame\n",
    "print(df)"
   ]
  },
  {
   "cell_type": "code",
   "execution_count": null,
   "metadata": {},
   "outputs": [],
   "source": [
    "import pandas as pd\n",
    "\n",
    "def total_time(employees: pd.DataFrame):\n",
    "    #create the new total_time column\n",
    "    employees['total_time'] = employees['out_time'] - employees['in_time']\n",
    "    #we're looking for total_time spent by each employee per day, so we group on event_day and emp_id, and then take the\n",
    "    #sum aggregate of total time. Bc we're using group by, we need to reset index.\n",
    "    new_df = employees.groupby(['event_day', 'emp_id'])['total_time'].sum().reset_index()\n",
    "    #rename columns in place.\n",
    "    new_df.rename(columns = {'event_day': 'day'}, inplace = True)\n",
    "\n",
    "    return new_df"
   ]
  },
  {
   "cell_type": "code",
   "execution_count": 3,
   "metadata": {},
   "outputs": [
    {
     "name": "stdout",
     "output_type": "stream",
     "text": [
      "   emp_id   event_day  in_time  out_time  total_time\n",
      "0       1  2020-11-28        4        32          28\n",
      "1       1  2020-11-28       55       200         145\n",
      "2       1  2020-12-03        1        42          41\n",
      "3       2  2020-11-28        3        33          30\n",
      "4       2  2020-12-09       47        74          27\n"
     ]
    }
   ],
   "source": [
    "df['total_time'] = df['out_time'] - df['in_time']\n",
    "print(df)"
   ]
  },
  {
   "cell_type": "code",
   "execution_count": null,
   "metadata": {},
   "outputs": [],
   "source": [
    "corrected = result.rename(columns = {'name_x': 'Employee', 'salary': 'Salary', 'name_y': 'Department'})\n",
    ".rename(columns = {'event_day': 'day'})"
   ]
  },
  {
   "cell_type": "code",
   "execution_count": 10,
   "metadata": {},
   "outputs": [
    {
     "data": {
      "text/html": [
       "<div>\n",
       "<style scoped>\n",
       "    .dataframe tbody tr th:only-of-type {\n",
       "        vertical-align: middle;\n",
       "    }\n",
       "\n",
       "    .dataframe tbody tr th {\n",
       "        vertical-align: top;\n",
       "    }\n",
       "\n",
       "    .dataframe thead th {\n",
       "        text-align: right;\n",
       "    }\n",
       "</style>\n",
       "<table border=\"1\" class=\"dataframe\">\n",
       "  <thead>\n",
       "    <tr style=\"text-align: right;\">\n",
       "      <th></th>\n",
       "      <th>day</th>\n",
       "      <th>emp_id</th>\n",
       "      <th>total_time</th>\n",
       "    </tr>\n",
       "  </thead>\n",
       "  <tbody>\n",
       "    <tr>\n",
       "      <th>0</th>\n",
       "      <td>2020-11-28</td>\n",
       "      <td>1</td>\n",
       "      <td>173</td>\n",
       "    </tr>\n",
       "    <tr>\n",
       "      <th>1</th>\n",
       "      <td>2020-11-28</td>\n",
       "      <td>2</td>\n",
       "      <td>30</td>\n",
       "    </tr>\n",
       "    <tr>\n",
       "      <th>2</th>\n",
       "      <td>2020-12-03</td>\n",
       "      <td>1</td>\n",
       "      <td>41</td>\n",
       "    </tr>\n",
       "    <tr>\n",
       "      <th>3</th>\n",
       "      <td>2020-12-09</td>\n",
       "      <td>2</td>\n",
       "      <td>27</td>\n",
       "    </tr>\n",
       "  </tbody>\n",
       "</table>\n",
       "</div>"
      ],
      "text/plain": [
       "          day  emp_id  total_time\n",
       "0  2020-11-28       1         173\n",
       "1  2020-11-28       2          30\n",
       "2  2020-12-03       1          41\n",
       "3  2020-12-09       2          27"
      ]
     },
     "execution_count": 10,
     "metadata": {},
     "output_type": "execute_result"
    }
   ],
   "source": [
    "new_df = df.groupby(['event_day', 'emp_id'])['total_time'].sum()\n",
    "new_df.reset_index().rename(columns = {'event_day': 'day'})\n",
    "\n"
   ]
  },
  {
   "cell_type": "code",
   "execution_count": null,
   "metadata": {},
   "outputs": [],
   "source": []
  }
 ],
 "metadata": {
  "kernelspec": {
   "display_name": "Python 3",
   "language": "python",
   "name": "python3"
  },
  "language_info": {
   "codemirror_mode": {
    "name": "ipython",
    "version": 3
   },
   "file_extension": ".py",
   "mimetype": "text/x-python",
   "name": "python",
   "nbconvert_exporter": "python",
   "pygments_lexer": "ipython3",
   "version": "3.10.11"
  }
 },
 "nbformat": 4,
 "nbformat_minor": 2
}
