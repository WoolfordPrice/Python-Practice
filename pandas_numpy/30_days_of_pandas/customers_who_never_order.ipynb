{
 "cells": [
  {
   "cell_type": "markdown",
   "metadata": {},
   "source": [
    "Table: Customers\n",
    "\n",
    "+-------------+---------+\n",
    "| Column Name | Type    |\n",
    "+-------------+---------+\n",
    "| id          | int     |\n",
    "| name        | varchar |\n",
    "+-------------+---------+\n",
    "id is the primary key (column with unique values) for this table.\n",
    "Each row of this table indicates the ID and name of a customer.\n",
    " \n",
    "\n",
    "Table: Orders\n",
    "\n",
    "+-------------+------+\n",
    "| Column Name | Type |\n",
    "+-------------+------+\n",
    "| id          | int  |\n",
    "| customerId  | int  |\n",
    "+-------------+------+\n",
    "id is the primary key (column with unique values) for this table.\n",
    "customerId is a foreign key (reference columns) of the ID from the Customers table.\n",
    "Each row of this table indicates the ID of an order and the ID of the customer who ordered it."
   ]
  },
  {
   "cell_type": "code",
   "execution_count": null,
   "metadata": {},
   "outputs": [],
   "source": [
    "import pandas as pd\n",
    "\n",
    "def find_customers(customers: pd.DataFrame, orders: pd.DataFrame) -> pd.DataFrame:\n",
    "    customers_orders = pd.merge(customers, orders, left_on = 'id', right_on = 'customerId', how = 'left')\n",
    "\n",
    "    no_orders = customers_orders.loc[customers_orders['customerId'].isna(), ['name']].rename(columns = {'name':'Customers'})\n",
    "    return no_orders\n",
    "\n",
    "#remember to chain shit and be more logical about your joins. This"
   ]
  },
  {
   "cell_type": "code",
   "execution_count": null,
   "metadata": {},
   "outputs": [],
   "source": [
    "import pandas as pd\n",
    "\n",
    "def find_customers(customers: pd.DataFrame, orders: pd.DataFrame) -> pd.DataFrame:\n",
    "# Merge customers with orders on id and customerId with a left join\n",
    "    merged_df = pd.merge(customers, orders, left_on='id', right_on='customerId', how='left')\n",
    "    \n",
    "    # Select customers who never made an order (customerId is NaN)\n",
    "    no_orders = merged_df[merged_df['customerId'].isna()][['name']].rename(columns = {'name': 'Customers'})\n",
    "    \n",
    "    return no_orders"
   ]
  }
 ],
 "metadata": {
  "language_info": {
   "name": "python"
  }
 },
 "nbformat": 4,
 "nbformat_minor": 2
}
