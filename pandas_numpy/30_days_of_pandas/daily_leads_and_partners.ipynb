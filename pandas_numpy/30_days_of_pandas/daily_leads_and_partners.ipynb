{
 "cells": [
  {
   "cell_type": "markdown",
   "metadata": {},
   "source": [
    "+-------------+---------+\n",
    "| Column Name | Type    |\n",
    "+-------------+---------+\n",
    "| date_id     | date    |\n",
    "| make_name   | varchar |\n",
    "| lead_id     | int     |\n",
    "| partner_id  | int     |\n",
    "+-------------+---------+\n",
    "There is no primary key (column with unique values) for this table. It may contain duplicates.\n",
    "This table contains the date and the name of the product sold and the IDs of the lead and partner it was sold to.\n",
    "The name consists of only lowercase English letters.\n",
    " \n",
    "\n",
    "For each date_id and make_name, find the number of distinct lead_id's and distinct partner_id's.\n",
    "\n",
    "Return the result table in any order.\n",
    "\n",
    "The result format is in the following example.\n",
    "\n",
    " \n",
    "\n",
    "Example 1:\n",
    "\n",
    "Input: \n",
    "DailySales table:\n",
    "+-----------+-----------+---------+------------+\n",
    "| date_id   | make_name | lead_id | partner_id |\n",
    "+-----------+-----------+---------+------------+\n",
    "| 2020-12-8 | toyota    | 0       | 1          |\n",
    "| 2020-12-8 | toyota    | 1       | 0          |\n",
    "| 2020-12-8 | toyota    | 1       | 2          |\n",
    "| 2020-12-7 | toyota    | 0       | 2          |\n",
    "| 2020-12-7 | toyota    | 0       | 1          |\n",
    "| 2020-12-8 | honda     | 1       | 2          |\n",
    "| 2020-12-8 | honda     | 2       | 1          |\n",
    "| 2020-12-7 | honda     | 0       | 1          |\n",
    "| 2020-12-7 | honda     | 1       | 2          |\n",
    "| 2020-12-7 | honda     | 2       | 1          |\n",
    "+-----------+-----------+---------+------------+\n",
    "Output: \n",
    "+-----------+-----------+--------------+-----------------+\n",
    "| date_id   | make_name | unique_leads | unique_partners |\n",
    "+-----------+-----------+--------------+-----------------+\n",
    "| 2020-12-8 | toyota    | 2            | 3               |\n",
    "| 2020-12-7 | toyota    | 1            | 2               |\n",
    "| 2020-12-8 | honda     | 2            | 2               |\n",
    "| 2020-12-7 | honda     | 3            | 2               |\n",
    "+-----------+-----------+--------------+-----------------+\n",
    "Explanation: \n",
    "For 2020-12-8, toyota gets leads = [0, 1] and partners = [0, 1, 2] while honda gets leads = [1, 2] and partners = [1, 2].\n",
    "For 2020-12-7, toyota gets leads = [0] and partners = [1, 2] while honda gets leads = [0, 1, 2] and partners = [1, 2]."
   ]
  },
  {
   "cell_type": "code",
   "execution_count": 1,
   "metadata": {},
   "outputs": [
    {
     "name": "stdout",
     "output_type": "stream",
     "text": [
      "     date_id make_name  lead_id  partner_id\n",
      "0  2020-12-8    toyota        0           1\n",
      "1  2020-12-8    toyota        1           0\n",
      "2  2020-12-8    toyota        1           2\n",
      "3  2020-12-7    toyota        0           2\n",
      "4  2020-12-7    toyota        0           1\n",
      "5  2020-12-8     honda        1           2\n",
      "6  2020-12-8     honda        2           1\n",
      "7  2020-12-7     honda        0           1\n",
      "8  2020-12-7     honda        1           2\n",
      "9  2020-12-7     honda        2           1\n"
     ]
    }
   ],
   "source": [
    "import pandas as pd\n",
    "\n",
    "# Create the data\n",
    "data = {\n",
    "    'date_id': ['2020-12-8', '2020-12-8', '2020-12-8', '2020-12-7', '2020-12-7', '2020-12-8', '2020-12-8', '2020-12-7', '2020-12-7', '2020-12-7'],\n",
    "    'make_name': ['toyota', 'toyota', 'toyota', 'toyota', 'toyota', 'honda', 'honda', 'honda', 'honda', 'honda'],\n",
    "    'lead_id': [0, 1, 1, 0, 0, 1, 2, 0, 1, 2],\n",
    "    'partner_id': [1, 0, 2, 2, 1, 2, 1, 1, 2, 1]\n",
    "}\n",
    "\n",
    "# Convert to DataFrame\n",
    "daily_sales_df = pd.DataFrame(data)\n",
    "\n",
    "# Display the DataFrame\n",
    "print(daily_sales_df)"
   ]
  },
  {
   "cell_type": "code",
   "execution_count": 16,
   "metadata": {},
   "outputs": [
    {
     "name": "stdout",
     "output_type": "stream",
     "text": [
      "     date_id make_name  lead_id  partner_id\n",
      "0  2020-12-7     honda        3           2\n",
      "1  2020-12-7    toyota        1           2\n",
      "2  2020-12-8     honda        2           2\n",
      "3  2020-12-8    toyota        2           3\n"
     ]
    }
   ],
   "source": [
    "grouped = daily_sales_df.groupby(['date_id','make_name'])[['lead_id','partner_id']].nunique().reset_index()\n",
    "sorted_df = grouped.sort_values(['date_id'],  ascending = True)\n",
    "\n",
    "print(sorted_df)"
   ]
  },
  {
   "cell_type": "code",
   "execution_count": 17,
   "metadata": {},
   "outputs": [],
   "source": [
    "def daily_leads_and_partners(daily_sales: pd.DataFrame):\n",
    "    #group by the date and make, and then take the counts of the unique values for lead and partner\n",
    "    grouped = daily_sales.groupby(['date_id', 'make_name'])[['lead_id', 'partner_id']].nunique().reset_index()\n",
    "    #order correct by the make name first, and then the date id\n",
    "    sorted_df = grouped.sort_values(['date_id'], ascending = True).rename(columns = {'lead_id':'unique_leads', 'partner_id':'unique_partners'})\n",
    "    \n",
    "    return sorted_df\n",
    "    "
   ]
  },
  {
   "cell_type": "code",
   "execution_count": null,
   "metadata": {},
   "outputs": [],
   "source": []
  }
 ],
 "metadata": {
  "kernelspec": {
   "display_name": "Python 3",
   "language": "python",
   "name": "python3"
  },
  "language_info": {
   "codemirror_mode": {
    "name": "ipython",
    "version": 3
   },
   "file_extension": ".py",
   "mimetype": "text/x-python",
   "name": "python",
   "nbconvert_exporter": "python",
   "pygments_lexer": "ipython3",
   "version": "3.10.11"
  }
 },
 "nbformat": 4,
 "nbformat_minor": 2
}
