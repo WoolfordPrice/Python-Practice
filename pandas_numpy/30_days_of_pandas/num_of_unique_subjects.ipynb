{
 "cells": [
  {
   "cell_type": "markdown",
   "metadata": {},
   "source": [
    "+-------------+------+\n",
    "| Column Name | Type |\n",
    "+-------------+------+\n",
    "| teacher_id  | int  |\n",
    "| subject_id  | int  |\n",
    "| dept_id     | int  |\n",
    "+-------------+------+\n",
    "(subject_id, dept_id) is the primary key (combinations of columns with unique values) of this table.\n",
    "Each row in this table indicates that the teacher with teacher_id teaches the subject subject_id in the department dept_id.\n",
    " \n",
    "\n",
    "Write a solution to calculate the number of unique subjects each teacher teaches in the university.\n",
    "\n",
    "Return the result table in any order.\n",
    "\n",
    "The result format is shown in the following example.\n",
    "\n",
    " \n",
    "\n",
    "Example 1:\n",
    "\n",
    "Input: \n",
    "Teacher table:\n",
    "+------------+------------+---------+\n",
    "| teacher_id | subject_id | dept_id |\n",
    "+------------+------------+---------+\n",
    "| 1          | 2          | 3       |\n",
    "| 1          | 2          | 4       |\n",
    "| 1          | 3          | 3       |\n",
    "| 2          | 1          | 1       |\n",
    "| 2          | 2          | 1       |\n",
    "| 2          | 3          | 1       |\n",
    "| 2          | 4          | 1       |\n",
    "+------------+------------+---------+\n",
    "Output:  \n",
    "+------------+-----+\n",
    "| teacher_id | cnt |\n",
    "+------------+-----+\n",
    "| 1          | 2   |\n",
    "| 2          | 4   |\n",
    "+------------+-----+\n",
    "Explanation: \n",
    "Teacher 1:\n",
    "  - They teach subject 2 in departments 3 and 4.\n",
    "  - They teach subject 3 in department 3.\n",
    "Teacher 2:\n",
    "  - They teach subject 1 in department 1.\n",
    "  - They teach subject 2 in department 1.\n",
    "  - They teach subject 3 in department 1.\n",
    "  - They teach subject 4 in department 1."
   ]
  },
  {
   "cell_type": "code",
   "execution_count": 1,
   "metadata": {},
   "outputs": [
    {
     "name": "stdout",
     "output_type": "stream",
     "text": [
      "   teacher_id  subject_id  dept_id\n",
      "0           1           2        3\n",
      "1           1           2        4\n",
      "2           1           3        3\n",
      "3           2           1        1\n",
      "4           2           2        1\n",
      "5           2           3        1\n",
      "6           2           4        1\n"
     ]
    }
   ],
   "source": [
    "import pandas as pd\n",
    "\n",
    "# Data for the DataFrame\n",
    "data = {\n",
    "    'teacher_id': [1, 1, 1, 2, 2, 2, 2],\n",
    "    'subject_id': [2, 2, 3, 1, 2, 3, 4],\n",
    "    'dept_id': [3, 4, 3, 1, 1, 1, 1]\n",
    "}\n",
    "\n",
    "# Create the DataFrame\n",
    "teacher = pd.DataFrame(data)\n",
    "\n",
    "# Display the DataFrame\n",
    "print(teacher)"
   ]
  },
  {
   "cell_type": "code",
   "execution_count": null,
   "metadata": {},
   "outputs": [],
   "source": [
    "def count_unique_subjects(teacher: pd.DataFrame):\n",
    "    #first, we want to grab only the unique classes each teacher teaches by subject_id. We do this in a \n",
    "    #double group function, and keep the first occurences of each combo.\n",
    "    teacher_grouped = teacher.groupby(['teacher_id','subject_id']).first().reset_index()\n",
    "    #then lets take the sum of the subject ids to find the count\n",
    "    teacher_sums = teacher_grouped.groupby(['teacher_id'])['subject_id'].count().reset_index().rename(columns = {'subject_id':'cnt'})\n",
    "    #and yeah thats it\n",
    "    return teacher_sums\n",
    "    "
   ]
  },
  {
   "cell_type": "code",
   "execution_count": null,
   "metadata": {},
   "outputs": [],
   "source": [
    "new_df = df.groupby(['player_id'])['event_date'].min().reset_index()\n",
    "customers_unique = customers.drop_duplicates(subset = 'email', keep = 'first')"
   ]
  },
  {
   "cell_type": "code",
   "execution_count": 6,
   "metadata": {},
   "outputs": [
    {
     "name": "stdout",
     "output_type": "stream",
     "text": [
      "   teacher_id  cnt\n",
      "0           1    2\n",
      "1           2    2\n"
     ]
    }
   ],
   "source": [
    "teacher_unique = teacher.drop_duplicates(subset = 'subject_id', keep = 'first')\n",
    "teacher_sums = teacher_unique.groupby(['teacher_id'])['subject_id'].count().reset_index().rename(columns = {'subject_id':'cnt'})\n",
    "print(teacher_sums)\n"
   ]
  },
  {
   "cell_type": "code",
   "execution_count": 12,
   "metadata": {},
   "outputs": [
    {
     "name": "stdout",
     "output_type": "stream",
     "text": [
      "   teacher_id  cnt\n",
      "0           1    2\n",
      "1           2    4\n"
     ]
    }
   ],
   "source": [
    "teacher_grouped = teacher.groupby(['teacher_id','subject_id']).first().reset_index()\n",
    "#teachers_unique = teacher_grouped.drop_duplicates(subset = ['teacher_id', 'subject_id'])\n",
    "teacher_sums = teacher_grouped.groupby(['teacher_id'])['subject_id'].count().reset_index().rename(columns = {'subject_id':'cnt'})\n"
   ]
  },
  {
   "cell_type": "code",
   "execution_count": null,
   "metadata": {},
   "outputs": [],
   "source": []
  }
 ],
 "metadata": {
  "kernelspec": {
   "display_name": "Python 3",
   "language": "python",
   "name": "python3"
  },
  "language_info": {
   "codemirror_mode": {
    "name": "ipython",
    "version": 3
   },
   "file_extension": ".py",
   "mimetype": "text/x-python",
   "name": "python",
   "nbconvert_exporter": "python",
   "pygments_lexer": "ipython3",
   "version": "3.10.11"
  }
 },
 "nbformat": 4,
 "nbformat_minor": 2
}
