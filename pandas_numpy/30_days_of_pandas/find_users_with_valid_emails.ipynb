{
 "cells": [
  {
   "cell_type": "code",
   "execution_count": null,
   "metadata": {},
   "outputs": [],
   "source": [
    "#boo, regex but the pattern explanation isn't bad.\n",
    "import pandas as pd\n",
    "\n",
    "def valid_emails(users: pd.DataFrame) -> pd.DataFrame:\n",
    "    #define the regex pattern\n",
    "    pattern = r'^[a-zA-Z][a-zA-Z0-9._-]*@leetcode\\.com$'\n",
    "    valid_emails = users.loc[users['mail'].str.match(pattern)]\n",
    "    return valid_emails\n"
   ]
  },
  {
   "cell_type": "code",
   "execution_count": null,
   "metadata": {},
   "outputs": [],
   "source": [
    "#similar solution, but using pd.where\n",
    "import pandas as pd\n",
    "\n",
    "def valid_emails(users: pd.DataFrame) -> pd.DataFrame:\n",
    "\n",
    "    pattern = r'^[a-zA-Z][a-zA-Z0-9._-]*@leetcode\\.com$'\n",
    "    \n",
    "    valid_emails = users.where(users['mail'].str.match(pattern)).dropna(subset=['mail'])\n",
    "    return valid_emails"
   ]
  },
  {
   "cell_type": "code",
   "execution_count": null,
   "metadata": {},
   "outputs": [],
   "source": [
    "def valid_emails(users: pd.DataFrame) -> pd.DataFrame:\n",
    "    pattern = r'^[a-zA-Z][a-zA-Z0-9._-]*@leetcode\\.com$'\n",
    "    \n",
    "    valid_emails = users.where(users['mail'].str.match(pattern)).dropna(subset=['mail'])\n",
    "    return valid_emails"
   ]
  },
  {
   "cell_type": "code",
   "execution_count": null,
   "metadata": {},
   "outputs": [],
   "source": [
    "import pandas as pd\n",
    "import numpy as np\n",
    "\n",
    "def find_users_with_valid_emails_np_where(users: pd.DataFrame) -> pd.DataFrame:\n",
    "    #Define the regex pattern for valid emails\n",
    "    pattern = r'^[a-zA-Z][a-zA-Z0-9._-]*@leetcode\\.com$'\n",
    "    \n",
    "    # Create a boolean mask using np.where\n",
    "    mask = np.where(users['mail'].str.match(pattern), True, False)\n",
    "    \n",
    "     \n",
    "    valid_emails = users[mask]\n",
    "    \n",
    "    return valid_emails\n"
   ]
  },
  {
   "cell_type": "code",
   "execution_count": null,
   "metadata": {},
   "outputs": [],
   "source": [
    "import pandas as pd\n",
    "import numpy as np\n",
    "\n",
    "def find_users_with_valid_emails_np_where(users: pd.DataFrame) -> pd.DataFrame:\n",
    "    #Define the regex pattern for valid emails\n",
    "    pattern = r'^[a-zA-Z][a-zA-Z0-9._-]*@leetcode\\.com$'\n",
    "    \n",
    "    mask = np.where(users['mail'].str.match(pattern), True, False)\n",
    "    \n",
    "    \n",
    "    valid_emails = users[mask]\n",
    "    \n",
    "    return valid_emails"
   ]
  }
 ],
 "metadata": {
  "kernelspec": {
   "display_name": "Python 3",
   "language": "python",
   "name": "python3"
  },
  "language_info": {
   "codemirror_mode": {
    "name": "ipython",
    "version": 3
   },
   "file_extension": ".py",
   "mimetype": "text/x-python",
   "name": "python",
   "nbconvert_exporter": "python",
   "pygments_lexer": "ipython3",
   "version": "3.10.11"
  }
 },
 "nbformat": 4,
 "nbformat_minor": 2
}
