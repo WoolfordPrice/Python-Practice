{
 "cells": [
  {
   "cell_type": "markdown",
   "metadata": {},
   "source": [
    "Table: Orders\n",
    "\n",
    "+-----------------+----------+\n",
    "| Column Name     | Type     |\n",
    "+-----------------+----------+\n",
    "| order_number    | int      |\n",
    "| customer_number | int      |\n",
    "+-----------------+----------+\n",
    "order_number is the primary key (column with unique values) for this table.\n",
    "This table contains information about the order ID and the customer ID.\n",
    " \n",
    "\n",
    "Write a solution to find the customer_number for the customer who has placed the largest number of orders.\n",
    "\n",
    "The test cases are generated so that exactly one customer will have placed more orders than any other customer.\n",
    "\n",
    "The result format is in the following example.\n",
    "\n",
    " \n",
    "\n",
    "Example 1:\n",
    "\n",
    "Input: \n",
    "Orders table:\n",
    "+--------------+-----------------+\n",
    "| order_number | customer_number |\n",
    "+--------------+-----------------+\n",
    "| 1            | 1               |\n",
    "| 2            | 2               |\n",
    "| 3            | 3               |\n",
    "| 4            | 3               |\n",
    "+--------------+-----------------+\n",
    "Output: \n",
    "+-----------------+\n",
    "| customer_number |\n",
    "+-----------------+\n",
    "| 3               |\n",
    "+-----------------+\n",
    "Explanation: \n",
    "The customer with number 3 has two orders, which is greater than either customer 1 or 2 because each of them only has one order. \n",
    "So the result is customer_number 3.\n",
    " \n",
    "\n",
    "Follow up: What if more than one customer has the largest number of orders, can you find all the customer_number in this case?"
   ]
  },
  {
   "cell_type": "code",
   "execution_count": 2,
   "metadata": {},
   "outputs": [
    {
     "name": "stdout",
     "output_type": "stream",
     "text": [
      "   order_number  customer_number\n",
      "0             1                1\n",
      "1             2                2\n",
      "2             3                3\n",
      "3             4                3\n"
     ]
    }
   ],
   "source": [
    "import pandas as pd\n",
    "\n",
    "# Create the data\n",
    "orders_data = {\n",
    "    'order_number': [1, 2, 3, 4],\n",
    "    'customer_number': [1, 2, 3, 3]\n",
    "}\n",
    "\n",
    "# Convert to DataFrame\n",
    "orders_df = pd.DataFrame(orders_data)\n",
    "\n",
    "# Display the DataFrame\n",
    "print(orders_df)"
   ]
  },
  {
   "cell_type": "code",
   "execution_count": 1,
   "metadata": {},
   "outputs": [],
   "source": [
    "import pandas as pd\n",
    "\n",
    "def largest_orders(orders: pd.DataFrame):\n",
    "    \n",
    "    #group by customer number, and count the number of orders\n",
    "    grouped_users = orders.groupby(['customer_number'])['order_number'].count().reset_index()\n",
    "    \n",
    "    #create a condition to find max number of orders\n",
    "    condition = (grouped_users['order_number'] == grouped_users['order_number'].max())\n",
    "    \n",
    "    #use loc to filter the results\n",
    "    most_orders = grouped_users.loc[condition,['customer_number']]\n",
    "    \n",
    "    return most_orders\n",
    "    "
   ]
  },
  {
   "cell_type": "code",
   "execution_count": 4,
   "metadata": {},
   "outputs": [
    {
     "name": "stdout",
     "output_type": "stream",
     "text": [
      "   customer_number  order_number\n",
      "0                1             1\n",
      "1                2             1\n",
      "2                3             2\n"
     ]
    }
   ],
   "source": [
    "new_df = orders_df.groupby(['customer_number'])['order_number'].count().reset_index().rename(columns = {'order_number'})\n",
    "print(new_df)"
   ]
  },
  {
   "cell_type": "code",
   "execution_count": 9,
   "metadata": {},
   "outputs": [
    {
     "name": "stdout",
     "output_type": "stream",
     "text": [
      "   customer_number\n",
      "2                3\n"
     ]
    }
   ],
   "source": [
    "condition = (new_df['order_number'] == new_df['order_number'].max())\n",
    "most_orders = new_df.loc[condition,['customer_number']]\n",
    "print(most_orders)"
   ]
  },
  {
   "cell_type": "code",
   "execution_count": null,
   "metadata": {},
   "outputs": [],
   "source": [
    "import pandas as pd\n",
    "#this is using idxmax() to find of the most orders, which could be used to then find the customer number. similar approach.\n",
    "# Sample data\n",
    "data = {\n",
    "    'order_number': [1, 2, 3, 4],\n",
    "    'customer_number': [1, 2, 3, 3]\n",
    "}\n",
    "new_df = pd.DataFrame(data)\n",
    "\n",
    "# Group by customer_number and count the orders\n",
    "order_counts = new_df.groupby('customer_number')['order_number'].count().reset_index()\n",
    "order_counts.columns = ['customer_number', 'order_count']\n",
    "\n",
    "# Find the index of the maximum order count\n",
    "max_index = order_counts['order_count'].idxmax()\n",
    "\n",
    "# Use iloc to get the customer number with the maximum orders\n",
    "most_orders = order_counts.iloc[max_index]\n",
    "\n",
    "print(most_orders)\n"
   ]
  }
 ],
 "metadata": {
  "kernelspec": {
   "display_name": "Python 3",
   "language": "python",
   "name": "python3"
  },
  "language_info": {
   "codemirror_mode": {
    "name": "ipython",
    "version": 3
   },
   "file_extension": ".py",
   "mimetype": "text/x-python",
   "name": "python",
   "nbconvert_exporter": "python",
   "pygments_lexer": "ipython3",
   "version": "3.10.11"
  }
 },
 "nbformat": 4,
 "nbformat_minor": 2
}
