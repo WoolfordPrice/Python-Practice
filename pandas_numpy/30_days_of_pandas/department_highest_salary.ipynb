{
 "cells": [
  {
   "cell_type": "code",
   "execution_count": 1,
   "metadata": {},
   "outputs": [
    {
     "name": "stdout",
     "output_type": "stream",
     "text": [
      "   id   name  salary  departmentId\n",
      "0   1    Joe   70000             1\n",
      "1   2    Jim   90000             1\n",
      "2   3  Henry   80000             2\n",
      "3   4    Sam   60000             2\n",
      "4   5    Max   90000             1\n",
      "   id   name\n",
      "0   1     IT\n",
      "1   2  Sales\n"
     ]
    }
   ],
   "source": [
    "import pandas as pd\n",
    "\n",
    "# Create the Employee DataFrame\n",
    "employee_data = {\n",
    "    'id': [1, 2, 3, 4, 5],\n",
    "    'name': ['Joe', 'Jim', 'Henry', 'Sam', 'Max'],\n",
    "    'salary': [70000, 90000, 80000, 60000, 90000],\n",
    "    'departmentId': [1, 1, 2, 2, 1]\n",
    "}\n",
    "employee_df = pd.DataFrame(employee_data)\n",
    "\n",
    "# Create the Department DataFrame\n",
    "department_data = {\n",
    "    'id': [1, 2],\n",
    "    'name': ['IT', 'Sales']\n",
    "}\n",
    "department_df = pd.DataFrame(department_data)\n",
    "\n",
    "# Display the DataFrames\n",
    "print(employee_df)\n",
    "print(department_df)\n"
   ]
  },
  {
   "cell_type": "code",
   "execution_count": null,
   "metadata": {},
   "outputs": [],
   "source": [
    "def department_highest_salary(employee: pd.DataFrame, department: pd.DataFrame):\n",
    "    #this is a really good one, study this later!\n",
    "    merged_df = pd.merge(employee_df, department_df, how = 'left', left_on = 'departmentId', right_on = 'id')\n",
    "    \n",
    "    grouped = merged_df.groupby(by = 'departmentId')\n",
    "    \n",
    "    max_salaries = grouped['salary'].max().reset_index()\n",
    "    \n",
    "    result = pd.merge(merged_df, max_salaries, how = 'inner', on = ['departmentId', 'salary'])\n",
    "    \n",
    "    corrected = result.rename(columns = {'name_x': 'Employee', 'salary': 'Salary', 'name_y': 'Department'})\n",
    "    \n",
    "    final_result = corrected[['Department', 'Employee', 'Salary']]\n",
    "    \n",
    "    return final_result"
   ]
  },
  {
   "cell_type": "code",
   "execution_count": null,
   "metadata": {},
   "outputs": [],
   "source": [
    "def department_highest_salary(employee: pd.DataFrame, department: pd.DataFrame):\n",
    "    \n",
    "    merged_df = pd.merge(employee_df, department_df, how = 'left', left_on = 'departmentId', right_on = 'id')\n",
    "    grouped = merged_df.groupby(by = 'departmentId')\n",
    "    max_salaries = grouped['salary'].max().reset_index()\n",
    "    print(max_salaries)"
   ]
  },
  {
   "cell_type": "code",
   "execution_count": 25,
   "metadata": {},
   "outputs": [
    {
     "name": "stdout",
     "output_type": "stream",
     "text": [
      "  Department Employee  Salary\n",
      "0         IT      Jim   90000\n",
      "1         IT      Max   90000\n",
      "2      Sales    Henry   80000\n"
     ]
    },
    {
     "ename": "",
     "evalue": "",
     "output_type": "error",
     "traceback": [
      "\u001b[1;31mThe Kernel crashed while executing code in the current cell or a previous cell. \n",
      "\u001b[1;31mPlease review the code in the cell(s) to identify a possible cause of the failure. \n",
      "\u001b[1;31mClick <a href='https://aka.ms/vscodeJupyterKernelCrash'>here</a> for more info. \n",
      "\u001b[1;31mView Jupyter <a href='command:jupyter.viewOutput'>log</a> for further details."
     ]
    }
   ],
   "source": [
    "merged_df = pd.merge(employee_df, department_df, how = 'left', left_on = 'departmentId', right_on = 'id')\n",
    "grouped = merged_df.groupby(by = 'departmentId')\n",
    "max_salaries = grouped['salary'].max().reset_index()\n",
    "result = pd.merge(merged_df, max_salaries, how = 'inner', on = ['departmentId', 'salary'])\n",
    "corrected = result.rename(columns = {'name_x': 'Employee', 'salary': 'Salary', 'name_y': 'Department'})\n",
    "final_result = corrected[['Department', 'Employee', 'Salary']]\n",
    "print(final_result)"
   ]
  },
  {
   "cell_type": "code",
   "execution_count": null,
   "metadata": {},
   "outputs": [],
   "source": [
    "merged_df = pd.merge(employee_df, department_df, how='inner', left_on='departmentId', right_on='id') \\\n",
    "              .drop(columns=['id_y']) \\\n",
    "              .rename(columns={'id_x': 'id', 'name_x': 'employee_name', 'name_y': 'department_name'})\n",
    "print(merged_df)\n"
   ]
  },
  {
   "cell_type": "code",
   "execution_count": 16,
   "metadata": {},
   "outputs": [
    {
     "name": "stdout",
     "output_type": "stream",
     "text": [
      "   id_x name_x  salary  departmentId  id_y name_y\n",
      "0     1    Joe   70000             1     1     IT\n",
      "1     2    Jim   90000             1     1     IT\n",
      "2     5    Max   90000             1     1     IT\n",
      "3     3  Henry   80000             2     2  Sales\n",
      "4     4    Sam   60000             2     2  Sales\n"
     ]
    }
   ],
   "source": [
    "#pd.merge(left, right, how='inner', on=None, left_on=None, right_on=None)\n",
    "merged_df = pd.merge(employee_df, department_df, how = 'inner', left_on = 'departmentId', right_on = 'id')\n",
    "print(merged_df)\n"
   ]
  },
  {
   "cell_type": "code",
   "execution_count": 20,
   "metadata": {},
   "outputs": [
    {
     "name": "stdout",
     "output_type": "stream",
     "text": [
      "   departmentId  salary\n",
      "0             1   90000\n",
      "1             2   80000\n"
     ]
    }
   ],
   "source": [
    "#df.groupby(by=None, axis=0, level=None, as_index=True, sort=True, group_keys=True)\n",
    "\n",
    "grouped = employee_df.groupby(by = 'departmentId')\n",
    "max_salaries = grouped['salary'].max().reset_index()\n",
    "print(max_salaries)"
   ]
  },
  {
   "cell_type": "code",
   "execution_count": 21,
   "metadata": {},
   "outputs": [
    {
     "name": "stdout",
     "output_type": "stream",
     "text": [
      "   id_x name_x  salary  departmentId  id_y name_y\n",
      "0     2    Jim   90000             1     1     IT\n",
      "1     3  Henry   80000             2     2  Sales\n"
     ]
    }
   ],
   "source": [
    "# Group by departmentId and find the indices of the maximum salaries\n",
    "max_salaries_idx = merged_df.groupby('departmentId')['salary'].idxmax()\n",
    "\n",
    "# Use these indices to select the rows with the maximum salaries\n",
    "max_salaries = merged_df.loc[max_salaries_idx].reset_index(drop=True)\n",
    "\n",
    "print(max_salaries)\n"
   ]
  },
  {
   "cell_type": "code",
   "execution_count": 14,
   "metadata": {},
   "outputs": [
    {
     "name": "stdout",
     "output_type": "stream",
     "text": [
      "   id   name  salary  departmentId\n",
      "0   2    Jim   90000             1\n",
      "1   3  Henry   80000             2\n"
     ]
    }
   ],
   "source": [
    "max_salaries_idx = employee_df.groupby('departmentId')['salary'].idxmax()\n",
    "max_salaries = employee_df.loc[max_salaries_idx].reset_index(drop=True)\n",
    "print(max_salaries)\n",
    "#"
   ]
  },
  {
   "cell_type": "code",
   "execution_count": null,
   "metadata": {},
   "outputs": [],
   "source": []
  }
 ],
 "metadata": {
  "kernelspec": {
   "display_name": "Python 3",
   "language": "python",
   "name": "python3"
  },
  "language_info": {
   "codemirror_mode": {
    "name": "ipython",
    "version": 3
   },
   "file_extension": ".py",
   "mimetype": "text/x-python",
   "name": "python",
   "nbconvert_exporter": "python",
   "pygments_lexer": "ipython3",
   "version": "3.10.11"
  }
 },
 "nbformat": 4,
 "nbformat_minor": 2
}
