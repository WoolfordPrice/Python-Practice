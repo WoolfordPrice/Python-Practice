{
 "cells": [
  {
   "cell_type": "markdown",
   "metadata": {},
   "source": [
    "+-------------+---------+\n",
    "| Column Name | Type    |\n",
    "+-------------+---------+\n",
    "| actor_id    | int     |\n",
    "| director_id | int     |\n",
    "| timestamp   | int     |\n",
    "+-------------+---------+\n",
    "timestamp is the primary key (column with unique values) for this table.\n",
    " \n",
    "\n",
    "Write a solution to find all the pairs (actor_id, director_id) where the actor has cooperated with the director at least three times.\n",
    "\n",
    "Return the result table in any order.\n",
    "\n",
    "The result format is in the following example.\n",
    "\n",
    " \n",
    "\n",
    "Example 1:\n",
    "\n",
    "Input: \n",
    "ActorDirector table:\n",
    "+-------------+-------------+-------------+\n",
    "| actor_id    | director_id | timestamp   |\n",
    "+-------------+-------------+-------------+\n",
    "| 1           | 1           | 0           |\n",
    "| 1           | 1           | 1           |\n",
    "| 1           | 1           | 2           |\n",
    "| 1           | 2           | 3           |\n",
    "| 1           | 2           | 4           |\n",
    "| 2           | 1           | 5           |\n",
    "| 2           | 1           | 6           |\n",
    "+-------------+-------------+-------------+\n",
    "Output: \n",
    "+-------------+-------------+\n",
    "| actor_id    | director_id |\n",
    "+-------------+-------------+\n",
    "| 1           | 1           |\n",
    "+-------------+-------------+\n",
    "Explanation: The only pair is (1, 1) where they cooperated exactly 3 times."
   ]
  },
  {
   "cell_type": "code",
   "execution_count": 4,
   "metadata": {},
   "outputs": [
    {
     "name": "stdout",
     "output_type": "stream",
     "text": [
      "   actor_id  director_id  timestamp\n",
      "0         1            1          0\n",
      "1         1            1          1\n",
      "2         1            1          2\n",
      "3         1            2          3\n",
      "4         1            2          4\n",
      "5         2            1          5\n",
      "6         2            1          6\n"
     ]
    }
   ],
   "source": [
    "import pandas as pd\n",
    "\n",
    "# Create the data\n",
    "data = {\n",
    "    'actor_id': [1, 1, 1, 1, 1, 2, 2],\n",
    "    'director_id': [1, 1, 1, 2, 2, 1, 1],\n",
    "    'timestamp': [0, 1, 2, 3, 4, 5, 6]\n",
    "}\n",
    "\n",
    "# Convert to DataFrame\n",
    "actor_director = pd.DataFrame(data)\n",
    "\n",
    "# Display the DataFrame\n",
    "print(actor_director)"
   ]
  },
  {
   "cell_type": "code",
   "execution_count": 20,
   "metadata": {},
   "outputs": [],
   "source": [
    "def actors_and_directors(actor_director: pd.DataFrame):\n",
    "    #first we need to group the actors and directors, and count how many times they worked using size\n",
    "    grouped = actor_director.groupby(['actor_id', 'director_id']).size()\n",
    "    #we really don't need to set a new dataframe here, but I did. The df from above is missing some info, so we need to\n",
    "    #reset the index and assign a name to the new column\n",
    "    times_worked = grouped.reset_index(name = 'count')\n",
    "    #setting a condition\n",
    "    condition = (times_worked['count'] > 2)\n",
    "    #filtering by the condition\n",
    "    results = times_worked.loc[condition][['actor_id', 'director_id']]\n",
    "    \n",
    "    return results\n",
    "    "
   ]
  },
  {
   "cell_type": "code",
   "execution_count": 7,
   "metadata": {},
   "outputs": [
    {
     "name": "stdout",
     "output_type": "stream",
     "text": [
      "   actor_id  director_id  timestamp  duplicate\n",
      "0         1            1          0       True\n",
      "1         1            1          1       True\n",
      "2         1            1          2       True\n",
      "3         1            2          3       True\n",
      "4         1            2          4       True\n",
      "5         2            1          5       True\n",
      "6         2            1          6       True\n"
     ]
    }
   ],
   "source": [
    "actor_director['duplicate'] = actor_director.duplicated(subset = ['actor_id','director_id']).any()\n",
    "print(actor_director)"
   ]
  },
  {
   "cell_type": "code",
   "execution_count": 14,
   "metadata": {},
   "outputs": [],
   "source": [
    "grouped = actor_director.groupby(['actor_id','director_id']).size()\n",
    "times_worked = grouped.reset_index(name = 'count')\n"
   ]
  },
  {
   "cell_type": "code",
   "execution_count": 19,
   "metadata": {},
   "outputs": [
    {
     "name": "stdout",
     "output_type": "stream",
     "text": [
      "   actor_id  director_id\n",
      "0         1            1\n"
     ]
    }
   ],
   "source": [
    "condition = (times_worked['count'] > 2)\n",
    "results = times_worked.loc[condition][['actor_id', 'director_id']]\n",
    "print(results)"
   ]
  },
  {
   "cell_type": "code",
   "execution_count": null,
   "metadata": {},
   "outputs": [],
   "source": []
  }
 ],
 "metadata": {
  "kernelspec": {
   "display_name": "Python 3",
   "language": "python",
   "name": "python3"
  },
  "language_info": {
   "codemirror_mode": {
    "name": "ipython",
    "version": 3
   },
   "file_extension": ".py",
   "mimetype": "text/x-python",
   "name": "python",
   "nbconvert_exporter": "python",
   "pygments_lexer": "ipython3",
   "version": "3.10.11"
  }
 },
 "nbformat": 4,
 "nbformat_minor": 2
}
