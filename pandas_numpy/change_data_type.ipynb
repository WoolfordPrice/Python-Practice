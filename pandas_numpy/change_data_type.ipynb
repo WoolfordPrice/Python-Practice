{
 "cells": [
  {
   "cell_type": "markdown",
   "metadata": {},
   "source": [
    "DataFrame students\n",
    "+-------------+--------+\n",
    "| Column Name | Type   |\n",
    "+-------------+--------+\n",
    "| student_id  | int    |\n",
    "| name        | object |\n",
    "| age         | int    |\n",
    "| grade       | float  |\n",
    "+-------------+--------+\n",
    "Write a solution to correct the errors:\n",
    "\n",
    "The grade column is stored as floats, convert it to integers.\n",
    "\n",
    "The result format is in the following example.\n",
    "\n",
    " \n",
    "\n",
    "Example 1:\n",
    "Input:\n",
    "DataFrame students:\n",
    "+------------+------+-----+-------+\n",
    "| student_id | name | age | grade |\n",
    "+------------+------+-----+-------+\n",
    "| 1          | Ava  | 6   | 73.0  |\n",
    "| 2          | Kate | 15  | 87.0  |\n",
    "+------------+------+-----+-------+\n",
    "Output:\n",
    "+------------+------+-----+-------+\n",
    "| student_id | name | age | grade |\n",
    "+------------+------+-----+-------+\n",
    "| 1          | Ava  | 6   | 73    |\n",
    "| 2          | Kate | 15  | 87    |\n",
    "+------------+------+-----+-------+\n",
    "Explanation: \n",
    "The data types of the column grade is converted to int."
   ]
  },
  {
   "cell_type": "code",
   "execution_count": null,
   "metadata": {},
   "outputs": [],
   "source": [
    "import pandas as pd\n",
    "import numpy as np\n",
    "\n",
    "def changeDatatype(students: pd.DataFrame) -> pd.DataFrame:\n",
    "    new_students = students\n",
    "    new_students['grade'] = new_students['grade'].astype(int)\n",
    "    return new_students\n",
    "\n",
    "#alternatively use np.int64 to convert to intz"
   ]
  }
 ],
 "metadata": {
  "language_info": {
   "name": "python"
  }
 },
 "nbformat": 4,
 "nbformat_minor": 2
}
