{
 "cells": [
  {
   "cell_type": "markdown",
   "metadata": {},
   "source": [
    "DataFrame students\n",
    "+-------------+--------+\n",
    "| Column Name | Type   |\n",
    "+-------------+--------+\n",
    "| student_id  | int    |\n",
    "| name        | object |\n",
    "| age         | int    |\n",
    "+-------------+--------+\n",
    "\n",
    "Write a solution to select the name and age of the student with student_id = 101.\n",
    "\n",
    "The result format is in the following example.\n",
    "\n",
    " \n",
    "\n",
    "Example 1:\n",
    "Input:\n",
    "+------------+---------+-----+\n",
    "| student_id | name    | age |\n",
    "+------------+---------+-----+\n",
    "| 101        | Ulysses | 13  |\n",
    "| 53         | William | 10  |\n",
    "| 128        | Henry   | 6   |\n",
    "| 3          | Henry   | 11  |\n",
    "+------------+---------+-----+\n",
    "Output:\n",
    "+---------+-----+\n",
    "| name    | age | \n",
    "+---------+-----+\n",
    "| Ulysses | 13  |\n",
    "+---------+-----+\n",
    "Explanation:\n",
    "Student Ulysses has student_id = 101, we select the name and age."
   ]
  },
  {
   "cell_type": "code",
   "execution_count": null,
   "metadata": {},
   "outputs": [],
   "source": [
    "import pandas as pd\n",
    "\n",
    "def selectData(students: pd.DataFrame) -> pd.DataFrame:\n",
    "    condition = (students['student_id'] == 101)\n",
    "    name_age = students.loc[condition,['name','age']]\n",
    "    return name_age\n",
    "\n",
    "#.loc is a powerful call that will pull info based on a condition\n",
    "#and specifying the columns you want to pull.\n",
    "#df.loc(row_condition, column_selection)\n"
   ]
  }
 ],
 "metadata": {
  "language_info": {
   "name": "python"
  }
 },
 "nbformat": 4,
 "nbformat_minor": 2
}
