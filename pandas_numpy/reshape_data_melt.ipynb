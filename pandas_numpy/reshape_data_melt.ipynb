{
 "cells": [
  {
   "cell_type": "markdown",
   "metadata": {},
   "source": [
    "DataFrame report\n",
    "+-------------+--------+\n",
    "| Column Name | Type   |\n",
    "+-------------+--------+\n",
    "| product     | object |\n",
    "| quarter_1   | int    |\n",
    "| quarter_2   | int    |\n",
    "| quarter_3   | int    |\n",
    "| quarter_4   | int    |\n",
    "+-------------+--------+\n",
    "Write a solution to reshape the data so that each row represents sales data for a product in a specific quarter.\n",
    "\n",
    "The result format is in the following example.\n",
    "\n",
    "Example 1:\n",
    "\n",
    "Input:\n",
    "+-------------+-----------+-----------+-----------+-----------+\n",
    "| product     | quarter_1 | quarter_2 | quarter_3 | quarter_4 |\n",
    "+-------------+-----------+-----------+-----------+-----------+\n",
    "| Umbrella    | 417       | 224       | 379       | 611       |\n",
    "| SleepingBag | 800       | 936       | 93        | 875       |\n",
    "+-------------+-----------+-----------+-----------+-----------+\n",
    "Output:\n",
    "+-------------+-----------+-------+\n",
    "| product     | quarter   | sales |\n",
    "+-------------+-----------+-------+\n",
    "| Umbrella    | quarter_1 | 417   |\n",
    "| SleepingBag | quarter_1 | 800   |\n",
    "| Umbrella    | quarter_2 | 224   |\n",
    "| SleepingBag | quarter_2 | 936   |\n",
    "| Umbrella    | quarter_3 | 379   |\n",
    "| SleepingBag | quarter_3 | 93    |\n",
    "| Umbrella    | quarter_4 | 611   |\n",
    "| SleepingBag | quarter_4 | 875   |\n",
    "+-------------+-----------+-------+\n",
    "Explanation:\n",
    "The DataFrame is reshaped from wide to long format. Each row represents the sales of a product in a quarter."
   ]
  },
  {
   "cell_type": "code",
   "execution_count": null,
   "metadata": {},
   "outputs": [],
   "source": [
    "import pandas as pd\n",
    "\n",
    "def meltTable(report: pd.DataFrame) -> pd.DataFrame:\n",
    "    melted_report = report.melt(id_vars = 'product', var_name = 'quarter', value_name = 'sales')\n",
    "    return melted_report"
   ]
  },
  {
   "cell_type": "markdown",
   "metadata": {},
   "source": [
    "Melt is the reverse of pivot!\n",
    "Inputs of melt()\n",
    "id_vars:\n",
    "\n",
    "Description: Columns to keep as identifier variables. These columns are not unpivoted and remain as is in the melted DataFrame.\n",
    "Type: String or list of strings.\n",
    "Example: id_vars=['date'] keeps the 'date' column unchanged.\n",
    "value_vars (optional):\n",
    "\n",
    "Description: Columns to unpivot. If not specified, all columns not in id_vars are unpivoted.\n",
    "Type: String or list of strings.\n",
    "Example: value_vars=['New York', 'Los Angeles'] specifies columns to be unpivoted.\n",
    "var_name (optional):\n",
    "\n",
    "Description: Name for the new column that will hold the names of the unpivoted columns.\n",
    "Type: String.\n",
    "Default: 'variable'.\n",
    "Example: var_name='city' names the new column 'city'.\n",
    "value_name (optional):\n",
    "\n",
    "Description: Name for the new column that will hold the values of the unpivoted columns.\n",
    "Type: String.\n",
    "Default: 'value'.\n",
    "Example: value_name='temperature' names the new column 'temperature'.\n",
    "col_level (optional):\n",
    "\n",
    "Description: If columns have multiple levels, this specifies which level to melt.\n",
    "Type: Integer or string.\n",
    "Example: col_level=0 uses the first level of the columns.\n",
    "ignore_index (optional):\n",
    "\n",
    "Description: If True, the original index is ignored, and a new integer index is created.\n",
    "Type: Boolean.\n",
    "Default: True.\n",
    "Example: ignore_index=False retains the original index."
   ]
  }
 ],
 "metadata": {
  "language_info": {
   "name": "python"
  }
 },
 "nbformat": 4,
 "nbformat_minor": 2
}
