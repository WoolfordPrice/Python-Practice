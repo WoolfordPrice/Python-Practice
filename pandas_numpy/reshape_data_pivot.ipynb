{
 "cells": [
  {
   "cell_type": "markdown",
   "metadata": {},
   "source": [
    "DataFrame weather\n",
    "+-------------+--------+\n",
    "| Column Name | Type   |\n",
    "+-------------+--------+\n",
    "| city        | object |\n",
    "| month       | object |\n",
    "| temperature | int    |\n",
    "+-------------+--------+\n",
    "Write a solution to pivot the data so that each row represents temperatures for a specific month, and each city is a separate column.\n",
    "\n",
    "The result format is in the following example.\n",
    "\n",
    " \n",
    "\n",
    "Example 1:\n",
    "Input:\n",
    "+--------------+----------+-------------+\n",
    "| city         | month    | temperature |\n",
    "+--------------+----------+-------------+\n",
    "| Jacksonville | January  | 13          |\n",
    "| Jacksonville | February | 23          |\n",
    "| Jacksonville | March    | 38          |\n",
    "| Jacksonville | April    | 5           |\n",
    "| Jacksonville | May      | 34          |\n",
    "| ElPaso       | January  | 20          |\n",
    "| ElPaso       | February | 6           |\n",
    "| ElPaso       | March    | 26          |\n",
    "| ElPaso       | April    | 2           |\n",
    "| ElPaso       | May      | 43          |\n",
    "+--------------+----------+-------------+\n",
    "Output:\n",
    "+----------+--------+--------------+\n",
    "| month    | ElPaso | Jacksonville |\n",
    "+----------+--------+--------------+\n",
    "| April    | 2      | 5            |\n",
    "| February | 6      | 23           |\n",
    "| January  | 20     | 13           |\n",
    "| March    | 26     | 38           |\n",
    "| May      | 43     | 34           |\n",
    "+----------+--------+--------------+\n",
    "Explanation:\n",
    "The table is pivoted, each column represents a city, and each row represents a specific month."
   ]
  },
  {
   "cell_type": "code",
   "execution_count": null,
   "metadata": {},
   "outputs": [],
   "source": [
    "import pandas as pd\n",
    "# Fill missing values with a default value\n",
    "#df_pivot_table = df.pivot_table(index='date', columns='city', values='temperature', aggfunc='mean', fill_value=0)\n",
    "#print(df_pivot_table)\n",
    "\n",
    "def pivotTable(weather: pd.DataFrame) -> pd.DataFrame:\n",
    "    pivoted_table = weather.pivot_table(index = 'month', columns = 'city', values = 'temperature')\n",
    "    return pivoted_table\n",
    "\n",
    "# a pivot needs three things to work correct\n",
    "#1. index, which will be the new rows\n",
    "#2 columns, which is setting values will be the new rows\n",
    "#3 values, which is setting what will populate the table"
   ]
  }
 ],
 "metadata": {
  "language_info": {
   "name": "python"
  }
 },
 "nbformat": 4,
 "nbformat_minor": 2
}
