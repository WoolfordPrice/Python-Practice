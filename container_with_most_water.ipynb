{
 "cells": [
  {
   "cell_type": "markdown",
   "metadata": {},
   "source": [
    "You are given an integer array height of length n. There are n vertical lines drawn such that the two endpoints of the ith line are (i, 0) and (i, height[i]).\n",
    "\n",
    "Find two lines that together with the x-axis form a container, such that the container contains the most water.\n",
    "\n",
    "Return the maximum amount of water a container can store.\n",
    "\n",
    "Notice that you may not slant the container.\n",
    "\n",
    "Input: height = [1,8,6,2,5,4,8,3,7]\n",
    "Output: 49\n",
    "Explanation: The above vertical lines are represented by array [1,8,6,2,5,4,8,3,7]. In this case, the max area of water (blue section) the container can contain is 49.\n",
    "Example 2:\n",
    "\n",
    "Input: height = [1,1]\n",
    "Output: 1"
   ]
  },
  {
   "cell_type": "code",
   "execution_count": 5,
   "metadata": {},
   "outputs": [],
   "source": [
    "def container_with_most_water(input_list):\n",
    "    tallest_wall = max(input_list)\n",
    "    tallest_wall_loc = input.index(tallest_wall)\n",
    "    largest_container = 0\n",
    "    for i in range(len(input_list)):\n",
    "        if i < tallest_wall_loc:\n",
    "            length = tallest_wall_loc - i\n",
    "        else:\n",
    "            length = i - tallest_wall_loc\n",
    "        area = length * input_list[i]\n",
    "        if area > largest_container:\n",
    "            largest_container = area\n",
    "    return area\n",
    "    "
   ]
  },
  {
   "cell_type": "code",
   "execution_count": 7,
   "metadata": {},
   "outputs": [
    {
     "data": {
      "text/plain": [
       "1"
      ]
     },
     "execution_count": 7,
     "metadata": {},
     "output_type": "execute_result"
    }
   ],
   "source": [
    "input = [1,8,6,2,5,4,8,3,7]\n",
    "input2 = [1,1]\n",
    "container_with_most_water(input2)\n",
    "\n",
    "\n",
    "        "
   ]
  },
  {
   "cell_type": "markdown",
   "metadata": {},
   "source": []
  }
 ],
 "metadata": {
  "kernelspec": {
   "display_name": "Python 3",
   "language": "python",
   "name": "python3"
  },
  "language_info": {
   "codemirror_mode": {
    "name": "ipython",
    "version": 3
   },
   "file_extension": ".py",
   "mimetype": "text/x-python",
   "name": "python",
   "nbconvert_exporter": "python",
   "pygments_lexer": "ipython3",
   "version": "3.10.5"
  }
 },
 "nbformat": 4,
 "nbformat_minor": 2
}
